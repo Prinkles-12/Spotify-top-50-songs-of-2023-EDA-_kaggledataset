{
 "cells": [
  {
   "cell_type": "code",
   "execution_count": 1,
   "id": "baae6b90",
   "metadata": {
    "_cell_guid": "b1076dfc-b9ad-4769-8c92-a6c4dae69d19",
    "_uuid": "8f2839f25d086af736a60e9eeb907d3b93b6e0e5",
    "execution": {
     "iopub.execute_input": "2024-03-20T06:50:26.903487Z",
     "iopub.status.busy": "2024-03-20T06:50:26.902835Z",
     "iopub.status.idle": "2024-03-20T06:50:29.556460Z",
     "shell.execute_reply": "2024-03-20T06:50:29.555228Z"
    },
    "papermill": {
     "duration": 2.668265,
     "end_time": "2024-03-20T06:50:29.559494",
     "exception": false,
     "start_time": "2024-03-20T06:50:26.891229",
     "status": "completed"
    },
    "tags": []
   },
   "outputs": [
    {
     "name": "stdout",
     "output_type": "stream",
     "text": [
      "/kaggle/input/spotify-top-tracks-2023/top_50_2023.csv\n"
     ]
    }
   ],
   "source": [
    "# This Python 3 environment comes with many helpful analytics libraries installed\n",
    "# It is defined by the kaggle/python Docker image: https://github.com/kaggle/docker-python\n",
    "# For example, here's several helpful packages to load\n",
    "\n",
    "import numpy as np # linear algebra\n",
    "import pandas as pd # data processing, CSV file I/O (e.g. pd.read_csv)\n",
    "\n",
    "# Input data files are available in the read-only \"../input/\" directory\n",
    "# For example, running this (by clicking run or pressing Shift+Enter) will list all files under the input directory\n",
    "\n",
    "import os\n",
    "for dirname, _, filenames in os.walk('/kaggle/input'):\n",
    "    for filename in filenames:\n",
    "        print(os.path.join(dirname, filename))\n",
    "\n",
    "import matplotlib.pyplot as plt\n",
    "import seaborn as sns \n",
    "\n",
    "# You can write up to 20GB to the current directory (/kaggle/working/) that gets preserved as output when you create a version using \"Save & Run All\" \n",
    "# You can also write temporary files to /kaggle/temp/, but they won't be saved outside of the current session"
   ]
  },
  {
   "cell_type": "code",
   "execution_count": 2,
   "id": "1bdc4acc",
   "metadata": {
    "execution": {
     "iopub.execute_input": "2024-03-20T06:50:29.582225Z",
     "iopub.status.busy": "2024-03-20T06:50:29.580850Z",
     "iopub.status.idle": "2024-03-20T06:50:29.630744Z",
     "shell.execute_reply": "2024-03-20T06:50:29.629084Z"
    },
    "papermill": {
     "duration": 0.064122,
     "end_time": "2024-03-20T06:50:29.633621",
     "exception": false,
     "start_time": "2024-03-20T06:50:29.569499",
     "status": "completed"
    },
    "tags": []
   },
   "outputs": [
    {
     "data": {
      "text/html": [
       "<div>\n",
       "<style scoped>\n",
       "    .dataframe tbody tr th:only-of-type {\n",
       "        vertical-align: middle;\n",
       "    }\n",
       "\n",
       "    .dataframe tbody tr th {\n",
       "        vertical-align: top;\n",
       "    }\n",
       "\n",
       "    .dataframe thead th {\n",
       "        text-align: right;\n",
       "    }\n",
       "</style>\n",
       "<table border=\"1\" class=\"dataframe\">\n",
       "  <thead>\n",
       "    <tr style=\"text-align: right;\">\n",
       "      <th></th>\n",
       "      <th>artist_name</th>\n",
       "      <th>track_name</th>\n",
       "      <th>is_explicit</th>\n",
       "      <th>album_release_date</th>\n",
       "      <th>genres</th>\n",
       "      <th>danceability</th>\n",
       "      <th>valence</th>\n",
       "      <th>energy</th>\n",
       "      <th>loudness</th>\n",
       "      <th>acousticness</th>\n",
       "      <th>instrumentalness</th>\n",
       "      <th>liveness</th>\n",
       "      <th>speechiness</th>\n",
       "      <th>key</th>\n",
       "      <th>tempo</th>\n",
       "      <th>mode</th>\n",
       "      <th>duration_ms</th>\n",
       "      <th>time_signature</th>\n",
       "      <th>popularity</th>\n",
       "    </tr>\n",
       "  </thead>\n",
       "  <tbody>\n",
       "    <tr>\n",
       "      <th>0</th>\n",
       "      <td>Miley Cyrus</td>\n",
       "      <td>Flowers</td>\n",
       "      <td>False</td>\n",
       "      <td>2023-08-18</td>\n",
       "      <td>['pop']</td>\n",
       "      <td>0.706</td>\n",
       "      <td>0.632</td>\n",
       "      <td>0.691</td>\n",
       "      <td>-4.775</td>\n",
       "      <td>0.0584</td>\n",
       "      <td>0.000070</td>\n",
       "      <td>0.0232</td>\n",
       "      <td>0.0633</td>\n",
       "      <td>0</td>\n",
       "      <td>118.048</td>\n",
       "      <td>1</td>\n",
       "      <td>200600</td>\n",
       "      <td>4</td>\n",
       "      <td>94</td>\n",
       "    </tr>\n",
       "    <tr>\n",
       "      <th>1</th>\n",
       "      <td>SZA</td>\n",
       "      <td>Kill Bill</td>\n",
       "      <td>False</td>\n",
       "      <td>2022-12-08</td>\n",
       "      <td>['pop', 'r&amp;b', 'rap']</td>\n",
       "      <td>0.644</td>\n",
       "      <td>0.418</td>\n",
       "      <td>0.735</td>\n",
       "      <td>-5.747</td>\n",
       "      <td>0.0521</td>\n",
       "      <td>0.144000</td>\n",
       "      <td>0.1610</td>\n",
       "      <td>0.0391</td>\n",
       "      <td>8</td>\n",
       "      <td>88.980</td>\n",
       "      <td>1</td>\n",
       "      <td>153947</td>\n",
       "      <td>4</td>\n",
       "      <td>86</td>\n",
       "    </tr>\n",
       "    <tr>\n",
       "      <th>2</th>\n",
       "      <td>Harry Styles</td>\n",
       "      <td>As It Was</td>\n",
       "      <td>False</td>\n",
       "      <td>2022-05-20</td>\n",
       "      <td>['pop']</td>\n",
       "      <td>0.520</td>\n",
       "      <td>0.662</td>\n",
       "      <td>0.731</td>\n",
       "      <td>-5.338</td>\n",
       "      <td>0.3420</td>\n",
       "      <td>0.001010</td>\n",
       "      <td>0.3110</td>\n",
       "      <td>0.0557</td>\n",
       "      <td>6</td>\n",
       "      <td>173.930</td>\n",
       "      <td>0</td>\n",
       "      <td>167303</td>\n",
       "      <td>4</td>\n",
       "      <td>95</td>\n",
       "    </tr>\n",
       "    <tr>\n",
       "      <th>3</th>\n",
       "      <td>Jung Kook</td>\n",
       "      <td>Seven (feat. Latto) (Explicit Ver.)</td>\n",
       "      <td>True</td>\n",
       "      <td>2023-11-03</td>\n",
       "      <td>['k-pop']</td>\n",
       "      <td>0.790</td>\n",
       "      <td>0.872</td>\n",
       "      <td>0.831</td>\n",
       "      <td>-4.185</td>\n",
       "      <td>0.3120</td>\n",
       "      <td>0.000000</td>\n",
       "      <td>0.0797</td>\n",
       "      <td>0.0440</td>\n",
       "      <td>11</td>\n",
       "      <td>124.987</td>\n",
       "      <td>1</td>\n",
       "      <td>183551</td>\n",
       "      <td>4</td>\n",
       "      <td>90</td>\n",
       "    </tr>\n",
       "    <tr>\n",
       "      <th>4</th>\n",
       "      <td>Eslabon Armado</td>\n",
       "      <td>Ella Baila Sola</td>\n",
       "      <td>False</td>\n",
       "      <td>2023-04-28</td>\n",
       "      <td>['corrido', 'corridos tumbados', 'sad sierreno...</td>\n",
       "      <td>0.668</td>\n",
       "      <td>0.834</td>\n",
       "      <td>0.758</td>\n",
       "      <td>-5.176</td>\n",
       "      <td>0.4830</td>\n",
       "      <td>0.000019</td>\n",
       "      <td>0.0837</td>\n",
       "      <td>0.0332</td>\n",
       "      <td>5</td>\n",
       "      <td>147.989</td>\n",
       "      <td>0</td>\n",
       "      <td>165671</td>\n",
       "      <td>3</td>\n",
       "      <td>86</td>\n",
       "    </tr>\n",
       "  </tbody>\n",
       "</table>\n",
       "</div>"
      ],
      "text/plain": [
       "      artist_name                           track_name  is_explicit  \\\n",
       "0     Miley Cyrus                              Flowers        False   \n",
       "1             SZA                            Kill Bill        False   \n",
       "2    Harry Styles                            As It Was        False   \n",
       "3       Jung Kook  Seven (feat. Latto) (Explicit Ver.)         True   \n",
       "4  Eslabon Armado                      Ella Baila Sola        False   \n",
       "\n",
       "  album_release_date                                             genres  \\\n",
       "0         2023-08-18                                            ['pop']   \n",
       "1         2022-12-08                              ['pop', 'r&b', 'rap']   \n",
       "2         2022-05-20                                            ['pop']   \n",
       "3         2023-11-03                                          ['k-pop']   \n",
       "4         2023-04-28  ['corrido', 'corridos tumbados', 'sad sierreno...   \n",
       "\n",
       "   danceability  valence  energy  loudness  acousticness  instrumentalness  \\\n",
       "0         0.706    0.632   0.691    -4.775        0.0584          0.000070   \n",
       "1         0.644    0.418   0.735    -5.747        0.0521          0.144000   \n",
       "2         0.520    0.662   0.731    -5.338        0.3420          0.001010   \n",
       "3         0.790    0.872   0.831    -4.185        0.3120          0.000000   \n",
       "4         0.668    0.834   0.758    -5.176        0.4830          0.000019   \n",
       "\n",
       "   liveness  speechiness  key    tempo  mode  duration_ms  time_signature  \\\n",
       "0    0.0232       0.0633    0  118.048     1       200600               4   \n",
       "1    0.1610       0.0391    8   88.980     1       153947               4   \n",
       "2    0.3110       0.0557    6  173.930     0       167303               4   \n",
       "3    0.0797       0.0440   11  124.987     1       183551               4   \n",
       "4    0.0837       0.0332    5  147.989     0       165671               3   \n",
       "\n",
       "   popularity  \n",
       "0          94  \n",
       "1          86  \n",
       "2          95  \n",
       "3          90  \n",
       "4          86  "
      ]
     },
     "execution_count": 2,
     "metadata": {},
     "output_type": "execute_result"
    }
   ],
   "source": [
    "df=pd.read_csv('/kaggle/input/spotify-top-tracks-2023/top_50_2023.csv')\n",
    "df.head()"
   ]
  },
  {
   "cell_type": "markdown",
   "id": "2ad3b6bb",
   "metadata": {
    "papermill": {
     "duration": 0.009468,
     "end_time": "2024-03-20T06:50:29.653023",
     "exception": false,
     "start_time": "2024-03-20T06:50:29.643555",
     "status": "completed"
    },
    "tags": []
   },
   "source": [
    "#### Data cleaning"
   ]
  },
  {
   "cell_type": "code",
   "execution_count": 3,
   "id": "6cb2cbda",
   "metadata": {
    "execution": {
     "iopub.execute_input": "2024-03-20T06:50:29.674536Z",
     "iopub.status.busy": "2024-03-20T06:50:29.674151Z",
     "iopub.status.idle": "2024-03-20T06:50:29.685637Z",
     "shell.execute_reply": "2024-03-20T06:50:29.684666Z"
    },
    "papermill": {
     "duration": 0.025133,
     "end_time": "2024-03-20T06:50:29.687930",
     "exception": false,
     "start_time": "2024-03-20T06:50:29.662797",
     "status": "completed"
    },
    "tags": []
   },
   "outputs": [
    {
     "data": {
      "text/plain": [
       "artist_name           0\n",
       "track_name            0\n",
       "is_explicit           0\n",
       "album_release_date    0\n",
       "genres                0\n",
       "danceability          0\n",
       "valence               0\n",
       "energy                0\n",
       "loudness              0\n",
       "acousticness          0\n",
       "instrumentalness      0\n",
       "liveness              0\n",
       "speechiness           0\n",
       "key                   0\n",
       "tempo                 0\n",
       "mode                  0\n",
       "duration_ms           0\n",
       "time_signature        0\n",
       "popularity            0\n",
       "dtype: int64"
      ]
     },
     "execution_count": 3,
     "metadata": {},
     "output_type": "execute_result"
    }
   ],
   "source": [
    "df.isna().sum()"
   ]
  },
  {
   "cell_type": "code",
   "execution_count": 4,
   "id": "8766d428",
   "metadata": {
    "execution": {
     "iopub.execute_input": "2024-03-20T06:50:29.710221Z",
     "iopub.status.busy": "2024-03-20T06:50:29.709090Z",
     "iopub.status.idle": "2024-03-20T06:50:29.739001Z",
     "shell.execute_reply": "2024-03-20T06:50:29.737298Z"
    },
    "papermill": {
     "duration": 0.043439,
     "end_time": "2024-03-20T06:50:29.741388",
     "exception": false,
     "start_time": "2024-03-20T06:50:29.697949",
     "status": "completed"
    },
    "tags": []
   },
   "outputs": [
    {
     "name": "stdout",
     "output_type": "stream",
     "text": [
      "<class 'pandas.core.frame.DataFrame'>\n",
      "RangeIndex: 50 entries, 0 to 49\n",
      "Data columns (total 19 columns):\n",
      " #   Column              Non-Null Count  Dtype  \n",
      "---  ------              --------------  -----  \n",
      " 0   artist_name         50 non-null     object \n",
      " 1   track_name          50 non-null     object \n",
      " 2   is_explicit         50 non-null     bool   \n",
      " 3   album_release_date  50 non-null     object \n",
      " 4   genres              50 non-null     object \n",
      " 5   danceability        50 non-null     float64\n",
      " 6   valence             50 non-null     float64\n",
      " 7   energy              50 non-null     float64\n",
      " 8   loudness            50 non-null     float64\n",
      " 9   acousticness        50 non-null     float64\n",
      " 10  instrumentalness    50 non-null     float64\n",
      " 11  liveness            50 non-null     float64\n",
      " 12  speechiness         50 non-null     float64\n",
      " 13  key                 50 non-null     int64  \n",
      " 14  tempo               50 non-null     float64\n",
      " 15  mode                50 non-null     int64  \n",
      " 16  duration_ms         50 non-null     int64  \n",
      " 17  time_signature      50 non-null     int64  \n",
      " 18  popularity          50 non-null     int64  \n",
      "dtypes: bool(1), float64(9), int64(5), object(4)\n",
      "memory usage: 7.2+ KB\n"
     ]
    }
   ],
   "source": [
    "df.info()"
   ]
  },
  {
   "cell_type": "code",
   "execution_count": 5,
   "id": "76ed9ede",
   "metadata": {
    "execution": {
     "iopub.execute_input": "2024-03-20T06:50:29.763739Z",
     "iopub.status.busy": "2024-03-20T06:50:29.763015Z",
     "iopub.status.idle": "2024-03-20T06:50:29.768720Z",
     "shell.execute_reply": "2024-03-20T06:50:29.767969Z"
    },
    "papermill": {
     "duration": 0.01937,
     "end_time": "2024-03-20T06:50:29.770864",
     "exception": false,
     "start_time": "2024-03-20T06:50:29.751494",
     "status": "completed"
    },
    "tags": []
   },
   "outputs": [
    {
     "data": {
      "text/plain": [
       "(50, 19)"
      ]
     },
     "execution_count": 5,
     "metadata": {},
     "output_type": "execute_result"
    }
   ],
   "source": [
    "df.shape"
   ]
  },
  {
   "cell_type": "code",
   "execution_count": 6,
   "id": "ce933308",
   "metadata": {
    "execution": {
     "iopub.execute_input": "2024-03-20T06:50:29.793233Z",
     "iopub.status.busy": "2024-03-20T06:50:29.792743Z",
     "iopub.status.idle": "2024-03-20T06:50:29.800054Z",
     "shell.execute_reply": "2024-03-20T06:50:29.798947Z"
    },
    "papermill": {
     "duration": 0.021405,
     "end_time": "2024-03-20T06:50:29.802484",
     "exception": false,
     "start_time": "2024-03-20T06:50:29.781079",
     "status": "completed"
    },
    "tags": []
   },
   "outputs": [
    {
     "data": {
      "text/plain": [
       "Index(['artist_name', 'track_name', 'is_explicit', 'album_release_date',\n",
       "       'genres', 'danceability', 'valence', 'energy', 'loudness',\n",
       "       'acousticness', 'instrumentalness', 'liveness', 'speechiness', 'key',\n",
       "       'tempo', 'mode', 'duration_ms', 'time_signature', 'popularity'],\n",
       "      dtype='object')"
      ]
     },
     "execution_count": 6,
     "metadata": {},
     "output_type": "execute_result"
    }
   ],
   "source": [
    "df.columns"
   ]
  },
  {
   "cell_type": "code",
   "execution_count": 7,
   "id": "839bacf9",
   "metadata": {
    "execution": {
     "iopub.execute_input": "2024-03-20T06:50:29.827619Z",
     "iopub.status.busy": "2024-03-20T06:50:29.826841Z",
     "iopub.status.idle": "2024-03-20T06:50:29.833481Z",
     "shell.execute_reply": "2024-03-20T06:50:29.832283Z"
    },
    "papermill": {
     "duration": 0.022157,
     "end_time": "2024-03-20T06:50:29.836214",
     "exception": false,
     "start_time": "2024-03-20T06:50:29.814057",
     "status": "completed"
    },
    "tags": []
   },
   "outputs": [
    {
     "data": {
      "text/plain": [
       "19"
      ]
     },
     "execution_count": 7,
     "metadata": {},
     "output_type": "execute_result"
    }
   ],
   "source": [
    "len(df.columns)"
   ]
  },
  {
   "cell_type": "code",
   "execution_count": 8,
   "id": "b97d7da2",
   "metadata": {
    "execution": {
     "iopub.execute_input": "2024-03-20T06:50:29.859560Z",
     "iopub.status.busy": "2024-03-20T06:50:29.858760Z",
     "iopub.status.idle": "2024-03-20T06:50:29.867802Z",
     "shell.execute_reply": "2024-03-20T06:50:29.867037Z"
    },
    "papermill": {
     "duration": 0.0234,
     "end_time": "2024-03-20T06:50:29.870243",
     "exception": false,
     "start_time": "2024-03-20T06:50:29.846843",
     "status": "completed"
    },
    "tags": []
   },
   "outputs": [
    {
     "data": {
      "text/plain": [
       "0"
      ]
     },
     "execution_count": 8,
     "metadata": {},
     "output_type": "execute_result"
    }
   ],
   "source": [
    "df.duplicated().sum()"
   ]
  },
  {
   "cell_type": "code",
   "execution_count": 9,
   "id": "bddce964",
   "metadata": {
    "execution": {
     "iopub.execute_input": "2024-03-20T06:50:29.894007Z",
     "iopub.status.busy": "2024-03-20T06:50:29.893294Z",
     "iopub.status.idle": "2024-03-20T06:50:29.944322Z",
     "shell.execute_reply": "2024-03-20T06:50:29.942866Z"
    },
    "papermill": {
     "duration": 0.066272,
     "end_time": "2024-03-20T06:50:29.947355",
     "exception": false,
     "start_time": "2024-03-20T06:50:29.881083",
     "status": "completed"
    },
    "tags": []
   },
   "outputs": [
    {
     "data": {
      "text/html": [
       "<div>\n",
       "<style scoped>\n",
       "    .dataframe tbody tr th:only-of-type {\n",
       "        vertical-align: middle;\n",
       "    }\n",
       "\n",
       "    .dataframe tbody tr th {\n",
       "        vertical-align: top;\n",
       "    }\n",
       "\n",
       "    .dataframe thead th {\n",
       "        text-align: right;\n",
       "    }\n",
       "</style>\n",
       "<table border=\"1\" class=\"dataframe\">\n",
       "  <thead>\n",
       "    <tr style=\"text-align: right;\">\n",
       "      <th></th>\n",
       "      <th>danceability</th>\n",
       "      <th>valence</th>\n",
       "      <th>energy</th>\n",
       "      <th>loudness</th>\n",
       "      <th>acousticness</th>\n",
       "      <th>instrumentalness</th>\n",
       "      <th>liveness</th>\n",
       "      <th>speechiness</th>\n",
       "      <th>key</th>\n",
       "      <th>tempo</th>\n",
       "      <th>mode</th>\n",
       "      <th>duration_ms</th>\n",
       "      <th>time_signature</th>\n",
       "      <th>popularity</th>\n",
       "    </tr>\n",
       "  </thead>\n",
       "  <tbody>\n",
       "    <tr>\n",
       "      <th>count</th>\n",
       "      <td>50.000000</td>\n",
       "      <td>50.000000</td>\n",
       "      <td>50.000000</td>\n",
       "      <td>50.000000</td>\n",
       "      <td>50.000000</td>\n",
       "      <td>50.000000</td>\n",
       "      <td>50.000000</td>\n",
       "      <td>50.000000</td>\n",
       "      <td>50.000000</td>\n",
       "      <td>50.000000</td>\n",
       "      <td>50.000000</td>\n",
       "      <td>50.00000</td>\n",
       "      <td>50.000000</td>\n",
       "      <td>50.000000</td>\n",
       "    </tr>\n",
       "    <tr>\n",
       "      <th>mean</th>\n",
       "      <td>0.662580</td>\n",
       "      <td>0.510740</td>\n",
       "      <td>0.659880</td>\n",
       "      <td>-6.012440</td>\n",
       "      <td>0.253332</td>\n",
       "      <td>0.020542</td>\n",
       "      <td>0.161280</td>\n",
       "      <td>0.083594</td>\n",
       "      <td>5.000000</td>\n",
       "      <td>124.069500</td>\n",
       "      <td>0.560000</td>\n",
       "      <td>200458.10000</td>\n",
       "      <td>3.900000</td>\n",
       "      <td>88.100000</td>\n",
       "    </tr>\n",
       "    <tr>\n",
       "      <th>std</th>\n",
       "      <td>0.123089</td>\n",
       "      <td>0.212346</td>\n",
       "      <td>0.121499</td>\n",
       "      <td>1.784443</td>\n",
       "      <td>0.222188</td>\n",
       "      <td>0.093655</td>\n",
       "      <td>0.091988</td>\n",
       "      <td>0.077913</td>\n",
       "      <td>3.522522</td>\n",
       "      <td>31.396557</td>\n",
       "      <td>0.501427</td>\n",
       "      <td>32580.81077</td>\n",
       "      <td>0.303046</td>\n",
       "      <td>5.690128</td>\n",
       "    </tr>\n",
       "    <tr>\n",
       "      <th>min</th>\n",
       "      <td>0.445000</td>\n",
       "      <td>0.131000</td>\n",
       "      <td>0.417000</td>\n",
       "      <td>-10.613000</td>\n",
       "      <td>0.001460</td>\n",
       "      <td>0.000000</td>\n",
       "      <td>0.023200</td>\n",
       "      <td>0.025600</td>\n",
       "      <td>0.000000</td>\n",
       "      <td>67.033000</td>\n",
       "      <td>0.000000</td>\n",
       "      <td>131013.00000</td>\n",
       "      <td>3.000000</td>\n",
       "      <td>72.000000</td>\n",
       "    </tr>\n",
       "    <tr>\n",
       "      <th>25%</th>\n",
       "      <td>0.559500</td>\n",
       "      <td>0.344000</td>\n",
       "      <td>0.556750</td>\n",
       "      <td>-7.126000</td>\n",
       "      <td>0.086275</td>\n",
       "      <td>0.000000</td>\n",
       "      <td>0.094675</td>\n",
       "      <td>0.038950</td>\n",
       "      <td>2.000000</td>\n",
       "      <td>97.963000</td>\n",
       "      <td>0.000000</td>\n",
       "      <td>176936.75000</td>\n",
       "      <td>4.000000</td>\n",
       "      <td>85.000000</td>\n",
       "    </tr>\n",
       "    <tr>\n",
       "      <th>50%</th>\n",
       "      <td>0.647500</td>\n",
       "      <td>0.507000</td>\n",
       "      <td>0.678000</td>\n",
       "      <td>-5.639000</td>\n",
       "      <td>0.164500</td>\n",
       "      <td>0.000012</td>\n",
       "      <td>0.121500</td>\n",
       "      <td>0.050950</td>\n",
       "      <td>5.000000</td>\n",
       "      <td>124.983500</td>\n",
       "      <td>1.000000</td>\n",
       "      <td>199740.00000</td>\n",
       "      <td>4.000000</td>\n",
       "      <td>89.000000</td>\n",
       "    </tr>\n",
       "    <tr>\n",
       "      <th>75%</th>\n",
       "      <td>0.776500</td>\n",
       "      <td>0.654500</td>\n",
       "      <td>0.736500</td>\n",
       "      <td>-4.877000</td>\n",
       "      <td>0.405500</td>\n",
       "      <td>0.000263</td>\n",
       "      <td>0.227000</td>\n",
       "      <td>0.081200</td>\n",
       "      <td>7.000000</td>\n",
       "      <td>138.059750</td>\n",
       "      <td>1.000000</td>\n",
       "      <td>228219.75000</td>\n",
       "      <td>4.000000</td>\n",
       "      <td>92.750000</td>\n",
       "    </tr>\n",
       "    <tr>\n",
       "      <th>max</th>\n",
       "      <td>0.911000</td>\n",
       "      <td>0.893000</td>\n",
       "      <td>0.965000</td>\n",
       "      <td>-2.810000</td>\n",
       "      <td>0.830000</td>\n",
       "      <td>0.634000</td>\n",
       "      <td>0.371000</td>\n",
       "      <td>0.333000</td>\n",
       "      <td>11.000000</td>\n",
       "      <td>203.759000</td>\n",
       "      <td>1.000000</td>\n",
       "      <td>272373.00000</td>\n",
       "      <td>4.000000</td>\n",
       "      <td>99.000000</td>\n",
       "    </tr>\n",
       "  </tbody>\n",
       "</table>\n",
       "</div>"
      ],
      "text/plain": [
       "       danceability    valence     energy   loudness  acousticness  \\\n",
       "count     50.000000  50.000000  50.000000  50.000000     50.000000   \n",
       "mean       0.662580   0.510740   0.659880  -6.012440      0.253332   \n",
       "std        0.123089   0.212346   0.121499   1.784443      0.222188   \n",
       "min        0.445000   0.131000   0.417000 -10.613000      0.001460   \n",
       "25%        0.559500   0.344000   0.556750  -7.126000      0.086275   \n",
       "50%        0.647500   0.507000   0.678000  -5.639000      0.164500   \n",
       "75%        0.776500   0.654500   0.736500  -4.877000      0.405500   \n",
       "max        0.911000   0.893000   0.965000  -2.810000      0.830000   \n",
       "\n",
       "       instrumentalness   liveness  speechiness        key       tempo  \\\n",
       "count         50.000000  50.000000    50.000000  50.000000   50.000000   \n",
       "mean           0.020542   0.161280     0.083594   5.000000  124.069500   \n",
       "std            0.093655   0.091988     0.077913   3.522522   31.396557   \n",
       "min            0.000000   0.023200     0.025600   0.000000   67.033000   \n",
       "25%            0.000000   0.094675     0.038950   2.000000   97.963000   \n",
       "50%            0.000012   0.121500     0.050950   5.000000  124.983500   \n",
       "75%            0.000263   0.227000     0.081200   7.000000  138.059750   \n",
       "max            0.634000   0.371000     0.333000  11.000000  203.759000   \n",
       "\n",
       "            mode   duration_ms  time_signature  popularity  \n",
       "count  50.000000      50.00000       50.000000   50.000000  \n",
       "mean    0.560000  200458.10000        3.900000   88.100000  \n",
       "std     0.501427   32580.81077        0.303046    5.690128  \n",
       "min     0.000000  131013.00000        3.000000   72.000000  \n",
       "25%     0.000000  176936.75000        4.000000   85.000000  \n",
       "50%     1.000000  199740.00000        4.000000   89.000000  \n",
       "75%     1.000000  228219.75000        4.000000   92.750000  \n",
       "max     1.000000  272373.00000        4.000000   99.000000  "
      ]
     },
     "execution_count": 9,
     "metadata": {},
     "output_type": "execute_result"
    }
   ],
   "source": [
    "df.describe()"
   ]
  },
  {
   "cell_type": "markdown",
   "id": "ec48533c",
   "metadata": {
    "papermill": {
     "duration": 0.010779,
     "end_time": "2024-03-20T06:50:29.969632",
     "exception": false,
     "start_time": "2024-03-20T06:50:29.958853",
     "status": "completed"
    },
    "tags": []
   },
   "source": [
    "after performing tasks mentioned above it shows that our data is quite clean and doesnt have any missing values or any duplicated values so we now can proceed with analysis part"
   ]
  },
  {
   "cell_type": "markdown",
   "id": "2b2947cf",
   "metadata": {
    "papermill": {
     "duration": 0.010807,
     "end_time": "2024-03-20T06:50:29.992167",
     "exception": false,
     "start_time": "2024-03-20T06:50:29.981360",
     "status": "completed"
    },
    "tags": []
   },
   "source": [
    "#### Data analysis"
   ]
  },
  {
   "cell_type": "markdown",
   "id": "44f14435",
   "metadata": {
    "papermill": {
     "duration": 0.011166,
     "end_time": "2024-03-20T06:50:30.015118",
     "exception": false,
     "start_time": "2024-03-20T06:50:30.003952",
     "status": "completed"
    },
    "tags": []
   },
   "source": [
    "#### top 5 most popular artists"
   ]
  },
  {
   "cell_type": "code",
   "execution_count": 10,
   "id": "f785ae34",
   "metadata": {
    "execution": {
     "iopub.execute_input": "2024-03-20T06:50:30.039284Z",
     "iopub.status.busy": "2024-03-20T06:50:30.038887Z",
     "iopub.status.idle": "2024-03-20T06:50:30.053169Z",
     "shell.execute_reply": "2024-03-20T06:50:30.051976Z"
    },
    "papermill": {
     "duration": 0.029414,
     "end_time": "2024-03-20T06:50:30.055656",
     "exception": false,
     "start_time": "2024-03-20T06:50:30.026242",
     "status": "completed"
    },
    "tags": []
   },
   "outputs": [
    {
     "data": {
      "text/plain": [
       "artist_name\n",
       "The Weeknd      4\n",
       "Taylor Swift    3\n",
       "d4vd            2\n",
       "SZA             2\n",
       "Bad Bunny       2\n",
       "Name: track_name, dtype: int64"
      ]
     },
     "execution_count": 10,
     "metadata": {},
     "output_type": "execute_result"
    }
   ],
   "source": [
    "top_five_artists=df.groupby(\"artist_name\").count().sort_values(by=\"track_name\", ascending= False)[\"track_name\"][:5]\n",
    "top_five_artists"
   ]
  },
  {
   "cell_type": "code",
   "execution_count": 11,
   "id": "95aff038",
   "metadata": {
    "execution": {
     "iopub.execute_input": "2024-03-20T06:50:30.080668Z",
     "iopub.status.busy": "2024-03-20T06:50:30.079850Z",
     "iopub.status.idle": "2024-03-20T06:50:30.417102Z",
     "shell.execute_reply": "2024-03-20T06:50:30.415899Z"
    },
    "papermill": {
     "duration": 0.352844,
     "end_time": "2024-03-20T06:50:30.419899",
     "exception": false,
     "start_time": "2024-03-20T06:50:30.067055",
     "status": "completed"
    },
    "tags": []
   },
   "outputs": [
    {
     "data": {
      "image/png": "[encoded data removed]",
      "text/plain": [
       "<Figure size 640x480 with 1 Axes>"
      ]
     },
     "metadata": {},
     "output_type": "display_data"
    }
   ],
   "source": [
    "top_five_artists.plot.barh()\n",
    "plt.show()"
   ]
  },
  {
   "cell_type": "markdown",
   "id": "e1a17f05",
   "metadata": {
    "papermill": {
     "duration": 0.0114,
     "end_time": "2024-03-20T06:50:30.442787",
     "exception": false,
     "start_time": "2024-03-20T06:50:30.431387",
     "status": "completed"
    },
    "tags": []
   },
   "source": [
    "#### top 5 loudest tracks"
   ]
  },
  {
   "cell_type": "code",
   "execution_count": 12,
   "id": "a7395116",
   "metadata": {
    "execution": {
     "iopub.execute_input": "2024-03-20T06:50:30.468515Z",
     "iopub.status.busy": "2024-03-20T06:50:30.467691Z",
     "iopub.status.idle": "2024-03-20T06:50:30.483339Z",
     "shell.execute_reply": "2024-03-20T06:50:30.482166Z"
    },
    "papermill": {
     "duration": 0.033395,
     "end_time": "2024-03-20T06:50:30.487788",
     "exception": false,
     "start_time": "2024-03-20T06:50:30.454393",
     "status": "completed"
    },
    "tags": []
   },
   "outputs": [
    {
     "data": {
      "text/html": [
       "<div>\n",
       "<style scoped>\n",
       "    .dataframe tbody tr th:only-of-type {\n",
       "        vertical-align: middle;\n",
       "    }\n",
       "\n",
       "    .dataframe tbody tr th {\n",
       "        vertical-align: top;\n",
       "    }\n",
       "\n",
       "    .dataframe thead th {\n",
       "        text-align: right;\n",
       "    }\n",
       "</style>\n",
       "<table border=\"1\" class=\"dataframe\">\n",
       "  <thead>\n",
       "    <tr style=\"text-align: right;\">\n",
       "      <th></th>\n",
       "      <th>loudness</th>\n",
       "      <th>track_name</th>\n",
       "    </tr>\n",
       "  </thead>\n",
       "  <tbody>\n",
       "    <tr>\n",
       "      <th>49</th>\n",
       "      <td>-10.613</td>\n",
       "      <td>Romantic Homicide</td>\n",
       "    </tr>\n",
       "    <tr>\n",
       "      <th>19</th>\n",
       "      <td>-9.475</td>\n",
       "      <td>Daylight</td>\n",
       "    </tr>\n",
       "    <tr>\n",
       "      <th>10</th>\n",
       "      <td>-9.345</td>\n",
       "      <td>I Wanna Be Yours</td>\n",
       "    </tr>\n",
       "    <tr>\n",
       "      <th>26</th>\n",
       "      <td>-9.283</td>\n",
       "      <td>Here With Me</td>\n",
       "    </tr>\n",
       "    <tr>\n",
       "      <th>45</th>\n",
       "      <td>-9.222</td>\n",
       "      <td>See You Again (feat. Kali Uchis)</td>\n",
       "    </tr>\n",
       "  </tbody>\n",
       "</table>\n",
       "</div>"
      ],
      "text/plain": [
       "    loudness                        track_name\n",
       "49   -10.613                 Romantic Homicide\n",
       "19    -9.475                          Daylight\n",
       "10    -9.345                  I Wanna Be Yours\n",
       "26    -9.283                      Here With Me\n",
       "45    -9.222  See You Again (feat. Kali Uchis)"
      ]
     },
     "execution_count": 12,
     "metadata": {},
     "output_type": "execute_result"
    }
   ],
   "source": [
    "top_5_loudest_tracks= df[[\"loudness\",\"track_name\"]].sort_values(by=\"loudness\", ascending=True)[:5]\n",
    "top_5_loudest_tracks"
   ]
  },
  {
   "cell_type": "code",
   "execution_count": 13,
   "id": "9b060043",
   "metadata": {
    "execution": {
     "iopub.execute_input": "2024-03-20T06:50:30.519658Z",
     "iopub.status.busy": "2024-03-20T06:50:30.518825Z",
     "iopub.status.idle": "2024-03-20T06:50:30.834134Z",
     "shell.execute_reply": "2024-03-20T06:50:30.832900Z"
    },
    "papermill": {
     "duration": 0.331462,
     "end_time": "2024-03-20T06:50:30.836967",
     "exception": false,
     "start_time": "2024-03-20T06:50:30.505505",
     "status": "completed"
    },
    "tags": []
   },
   "outputs": [
    {
     "data": {
      "image/png": "[encoded data removed]",
      "text/plain": [
       "<Figure size 1200x700 with 1 Axes>"
      ]
     },
     "metadata": {},
     "output_type": "display_data"
    }
   ],
   "source": [
    "plt.figure(figsize=(12,7))\n",
    "sns.barplot(x=\"loudness\" ,y=\"track_name\", data=top_5_loudest_tracks)\n",
    "plt.title(\"top_5_loudest_tracks\")\n",
    "plt.show()"
   ]
  },
  {
   "cell_type": "markdown",
   "id": "89fa8c94",
   "metadata": {
    "papermill": {
     "duration": 0.012585,
     "end_time": "2024-03-20T06:50:30.861983",
     "exception": false,
     "start_time": "2024-03-20T06:50:30.849398",
     "status": "completed"
    },
    "tags": []
   },
   "source": [
    "#### Artist with most danceability song"
   ]
  },
  {
   "cell_type": "code",
   "execution_count": 14,
   "id": "84c8bfb2",
   "metadata": {
    "execution": {
     "iopub.execute_input": "2024-03-20T06:50:30.888351Z",
     "iopub.status.busy": "2024-03-20T06:50:30.887976Z",
     "iopub.status.idle": "2024-03-20T06:50:30.902638Z",
     "shell.execute_reply": "2024-03-20T06:50:30.901432Z"
    },
    "papermill": {
     "duration": 0.030779,
     "end_time": "2024-03-20T06:50:30.905089",
     "exception": false,
     "start_time": "2024-03-20T06:50:30.874310",
     "status": "completed"
    },
    "tags": []
   },
   "outputs": [
    {
     "data": {
      "text/html": [
       "<div>\n",
       "<style scoped>\n",
       "    .dataframe tbody tr th:only-of-type {\n",
       "        vertical-align: middle;\n",
       "    }\n",
       "\n",
       "    .dataframe tbody tr th {\n",
       "        vertical-align: top;\n",
       "    }\n",
       "\n",
       "    .dataframe thead th {\n",
       "        text-align: right;\n",
       "    }\n",
       "</style>\n",
       "<table border=\"1\" class=\"dataframe\">\n",
       "  <thead>\n",
       "    <tr style=\"text-align: right;\">\n",
       "      <th></th>\n",
       "      <th>danceability</th>\n",
       "      <th>track_name</th>\n",
       "      <th>artist_name</th>\n",
       "    </tr>\n",
       "  </thead>\n",
       "  <tbody>\n",
       "    <tr>\n",
       "      <th>46</th>\n",
       "      <td>0.911</td>\n",
       "      <td>Me Porto Bonito</td>\n",
       "      <td>Bad Bunny</td>\n",
       "    </tr>\n",
       "    <tr>\n",
       "      <th>32</th>\n",
       "      <td>0.901</td>\n",
       "      <td>Hey Mor</td>\n",
       "      <td>Ozuna</td>\n",
       "    </tr>\n",
       "    <tr>\n",
       "      <th>34</th>\n",
       "      <td>0.864</td>\n",
       "      <td>Paint The Town Red</td>\n",
       "      <td>Doja Cat</td>\n",
       "    </tr>\n",
       "    <tr>\n",
       "      <th>33</th>\n",
       "      <td>0.859</td>\n",
       "      <td>CLASSY 101</td>\n",
       "      <td>Feid</td>\n",
       "    </tr>\n",
       "    <tr>\n",
       "      <th>17</th>\n",
       "      <td>0.835</td>\n",
       "      <td>La Bachata</td>\n",
       "      <td>Manuel Turizo</td>\n",
       "    </tr>\n",
       "  </tbody>\n",
       "</table>\n",
       "</div>"
      ],
      "text/plain": [
       "    danceability          track_name    artist_name\n",
       "46         0.911     Me Porto Bonito      Bad Bunny\n",
       "32         0.901             Hey Mor          Ozuna\n",
       "34         0.864  Paint The Town Red       Doja Cat\n",
       "33         0.859          CLASSY 101           Feid\n",
       "17         0.835          La Bachata  Manuel Turizo"
      ]
     },
     "execution_count": 14,
     "metadata": {},
     "output_type": "execute_result"
    }
   ],
   "source": [
    "top_five_artist_with_most_danceable_songs=df[[\"danceability\", \"track_name\", \"artist_name\"]].sort_values(by=\"danceability\", ascending= False)[:5]\n",
    "top_five_artist_with_most_danceable_songs"
   ]
  },
  {
   "cell_type": "code",
   "execution_count": 15,
   "id": "052290a2",
   "metadata": {
    "execution": {
     "iopub.execute_input": "2024-03-20T06:50:30.932075Z",
     "iopub.status.busy": "2024-03-20T06:50:30.931649Z",
     "iopub.status.idle": "2024-03-20T06:50:31.224307Z",
     "shell.execute_reply": "2024-03-20T06:50:31.223118Z"
    },
    "papermill": {
     "duration": 0.309556,
     "end_time": "2024-03-20T06:50:31.227332",
     "exception": false,
     "start_time": "2024-03-20T06:50:30.917776",
     "status": "completed"
    },
    "tags": []
   },
   "outputs": [
    {
     "data": {
      "image/png": "[encoded data removed]",
      "text/plain": [
       "<Figure size 1200x700 with 1 Axes>"
      ]
     },
     "metadata": {},
     "output_type": "display_data"
    }
   ],
   "source": [
    "plt.figure(figsize=(12,7))\n",
    "sns.barplot(x=\"danceability\" ,y=\"artist_name\", data=top_five_artist_with_most_danceable_songs)\n",
    "plt.title(\"top_five_artist_with_most_danceable_songs\")\n",
    "plt.show()"
   ]
  },
  {
   "cell_type": "code",
   "execution_count": 16,
   "id": "abd21734",
   "metadata": {
    "execution": {
     "iopub.execute_input": "2024-03-20T06:50:31.256173Z",
     "iopub.status.busy": "2024-03-20T06:50:31.255416Z",
     "iopub.status.idle": "2024-03-20T06:50:31.272605Z",
     "shell.execute_reply": "2024-03-20T06:50:31.271693Z"
    },
    "papermill": {
     "duration": 0.03451,
     "end_time": "2024-03-20T06:50:31.275067",
     "exception": false,
     "start_time": "2024-03-20T06:50:31.240557",
     "status": "completed"
    },
    "tags": []
   },
   "outputs": [
    {
     "data": {
      "text/html": [
       "<div>\n",
       "<style scoped>\n",
       "    .dataframe tbody tr th:only-of-type {\n",
       "        vertical-align: middle;\n",
       "    }\n",
       "\n",
       "    .dataframe tbody tr th {\n",
       "        vertical-align: top;\n",
       "    }\n",
       "\n",
       "    .dataframe thead th {\n",
       "        text-align: right;\n",
       "    }\n",
       "</style>\n",
       "<table border=\"1\" class=\"dataframe\">\n",
       "  <thead>\n",
       "    <tr style=\"text-align: right;\">\n",
       "      <th></th>\n",
       "      <th>instrumentalness</th>\n",
       "      <th>track_name</th>\n",
       "      <th>artist_name</th>\n",
       "    </tr>\n",
       "  </thead>\n",
       "  <tbody>\n",
       "    <tr>\n",
       "      <th>39</th>\n",
       "      <td>0.634</td>\n",
       "      <td>WHERE SHE GOES</td>\n",
       "      <td>Bad Bunny</td>\n",
       "    </tr>\n",
       "    <tr>\n",
       "      <th>28</th>\n",
       "      <td>0.162</td>\n",
       "      <td>golden hour</td>\n",
       "      <td>JVKE</td>\n",
       "    </tr>\n",
       "    <tr>\n",
       "      <th>1</th>\n",
       "      <td>0.144</td>\n",
       "      <td>Kill Bill</td>\n",
       "      <td>SZA</td>\n",
       "    </tr>\n",
       "    <tr>\n",
       "      <th>31</th>\n",
       "      <td>0.033</td>\n",
       "      <td>Quevedo: Bzrp Music Sessions, Vol. 52</td>\n",
       "      <td>Bizarrap</td>\n",
       "    </tr>\n",
       "    <tr>\n",
       "      <th>10</th>\n",
       "      <td>0.022</td>\n",
       "      <td>I Wanna Be Yours</td>\n",
       "      <td>Arctic Monkeys</td>\n",
       "    </tr>\n",
       "  </tbody>\n",
       "</table>\n",
       "</div>"
      ],
      "text/plain": [
       "    instrumentalness                             track_name     artist_name\n",
       "39             0.634                         WHERE SHE GOES       Bad Bunny\n",
       "28             0.162                            golden hour            JVKE\n",
       "1              0.144                              Kill Bill             SZA\n",
       "31             0.033  Quevedo: Bzrp Music Sessions, Vol. 52        Bizarrap\n",
       "10             0.022                       I Wanna Be Yours  Arctic Monkeys"
      ]
     },
     "execution_count": 16,
     "metadata": {},
     "output_type": "execute_result"
    }
   ],
   "source": [
    "top_5_instrumental_songs=df[[\"instrumentalness\", \"track_name\", \"artist_name\"]].sort_values(by=\"instrumentalness\", ascending= False)[:5]\n",
    "top_5_instrumental_songs"
   ]
  },
  {
   "cell_type": "code",
   "execution_count": 17,
   "id": "cd996b62",
   "metadata": {
    "execution": {
     "iopub.execute_input": "2024-03-20T06:50:31.304031Z",
     "iopub.status.busy": "2024-03-20T06:50:31.303238Z",
     "iopub.status.idle": "2024-03-20T06:50:31.548210Z",
     "shell.execute_reply": "2024-03-20T06:50:31.546995Z"
    },
    "papermill": {
     "duration": 0.262792,
     "end_time": "2024-03-20T06:50:31.551222",
     "exception": false,
     "start_time": "2024-03-20T06:50:31.288430",
     "status": "completed"
    },
    "tags": []
   },
   "outputs": [
    {
     "data": {
      "image/png": "[encoded data removed]",
      "text/plain": [
       "<Figure size 1200x700 with 1 Axes>"
      ]
     },
     "metadata": {},
     "output_type": "display_data"
    }
   ],
   "source": [
    "\n",
    "plt.figure(figsize=(12,7))\n",
    "plt.pie(x=\"instrumentalness\", data= top_5_instrumental_songs,autopct= '%1.2f%%',labels=top_5_instrumental_songs.track_name)\n",
    "plt.title(\"top_5_instrumental_songs\")\n",
    "plt.show()"
   ]
  },
  {
   "cell_type": "markdown",
   "id": "3ca1e8bb",
   "metadata": {
    "papermill": {
     "duration": 0.013626,
     "end_time": "2024-03-20T06:50:31.579198",
     "exception": false,
     "start_time": "2024-03-20T06:50:31.565572",
     "status": "completed"
    },
    "tags": []
   },
   "source": [
    "#### Explicit content distribution"
   ]
  },
  {
   "cell_type": "code",
   "execution_count": 18,
   "id": "af58a405",
   "metadata": {
    "execution": {
     "iopub.execute_input": "2024-03-20T06:50:31.609130Z",
     "iopub.status.busy": "2024-03-20T06:50:31.608720Z",
     "iopub.status.idle": "2024-03-20T06:50:31.623793Z",
     "shell.execute_reply": "2024-03-20T06:50:31.622588Z"
    },
    "papermill": {
     "duration": 0.032967,
     "end_time": "2024-03-20T06:50:31.626203",
     "exception": false,
     "start_time": "2024-03-20T06:50:31.593236",
     "status": "completed"
    },
    "tags": []
   },
   "outputs": [
    {
     "data": {
      "text/html": [
       "<div>\n",
       "<style scoped>\n",
       "    .dataframe tbody tr th:only-of-type {\n",
       "        vertical-align: middle;\n",
       "    }\n",
       "\n",
       "    .dataframe tbody tr th {\n",
       "        vertical-align: top;\n",
       "    }\n",
       "\n",
       "    .dataframe thead th {\n",
       "        text-align: right;\n",
       "    }\n",
       "</style>\n",
       "<table border=\"1\" class=\"dataframe\">\n",
       "  <thead>\n",
       "    <tr style=\"text-align: right;\">\n",
       "      <th></th>\n",
       "      <th>is_explicit</th>\n",
       "      <th>count</th>\n",
       "    </tr>\n",
       "  </thead>\n",
       "  <tbody>\n",
       "    <tr>\n",
       "      <th>0</th>\n",
       "      <td>False</td>\n",
       "      <td>28</td>\n",
       "    </tr>\n",
       "    <tr>\n",
       "      <th>1</th>\n",
       "      <td>True</td>\n",
       "      <td>22</td>\n",
       "    </tr>\n",
       "  </tbody>\n",
       "</table>\n",
       "</div>"
      ],
      "text/plain": [
       "   is_explicit  count\n",
       "0        False     28\n",
       "1         True     22"
      ]
     },
     "execution_count": 18,
     "metadata": {},
     "output_type": "execute_result"
    }
   ],
   "source": [
    "labels = ['True' , 'False']\n",
    "explicit_content  = df['is_explicit'].value_counts().reset_index()\n",
    "explicit_content"
   ]
  },
  {
   "cell_type": "code",
   "execution_count": 19,
   "id": "77a55aed",
   "metadata": {
    "execution": {
     "iopub.execute_input": "2024-03-20T06:50:31.657699Z",
     "iopub.status.busy": "2024-03-20T06:50:31.656700Z",
     "iopub.status.idle": "2024-03-20T06:50:31.818483Z",
     "shell.execute_reply": "2024-03-20T06:50:31.816942Z"
    },
    "papermill": {
     "duration": 0.183768,
     "end_time": "2024-03-20T06:50:31.824265",
     "exception": false,
     "start_time": "2024-03-20T06:50:31.640497",
     "status": "completed"
    },
    "tags": []
   },
   "outputs": [
    {
     "data": {
      "image/png": "[encoded data removed]",
      "text/plain": [
       "<Figure size 640x480 with 1 Axes>"
      ]
     },
     "metadata": {},
     "output_type": "display_data"
    }
   ],
   "source": [
    "plt.pie(explicit_content['count'] , labels = explicit_content['is_explicit'] ,autopct='%1.1f%%',shadow = True , colors = [\n",
    "    'green',\n",
    "    'red',  \n",
    "])\n",
    "plt.title('Distribution of Explicit Content')\n",
    "plt.show()"
   ]
  },
  {
   "cell_type": "markdown",
   "id": "e8b47011",
   "metadata": {
    "papermill": {
     "duration": 0.024606,
     "end_time": "2024-03-20T06:50:31.883433",
     "exception": false,
     "start_time": "2024-03-20T06:50:31.858827",
     "status": "completed"
    },
    "tags": []
   },
   "source": [
    "#### most popular genres"
   ]
  },
  {
   "cell_type": "code",
   "execution_count": null,
   "id": "e54e706e",
   "metadata": {
    "papermill": {
     "duration": 0.014931,
     "end_time": "2024-03-20T06:50:31.913936",
     "exception": false,
     "start_time": "2024-03-20T06:50:31.899005",
     "status": "completed"
    },
    "tags": []
   },
   "outputs": [],
   "source": []
  },
  {
   "cell_type": "code",
   "execution_count": 20,
   "id": "f557fc1c",
   "metadata": {
    "execution": {
     "iopub.execute_input": "2024-03-20T06:50:31.948021Z",
     "iopub.status.busy": "2024-03-20T06:50:31.947079Z",
     "iopub.status.idle": "2024-03-20T06:50:31.960291Z",
     "shell.execute_reply": "2024-03-20T06:50:31.959315Z"
    },
    "papermill": {
     "duration": 0.033596,
     "end_time": "2024-03-20T06:50:31.962653",
     "exception": false,
     "start_time": "2024-03-20T06:50:31.929057",
     "status": "completed"
    },
    "tags": []
   },
   "outputs": [
    {
     "data": {
      "text/plain": [
       "genres                                              \n",
       "['pop']                                                 6\n",
       "['canadian contemporary r&b', 'canadian pop', 'pop']    4\n",
       "['bedroom pop']                                         3\n",
       "['reggaeton', 'trap latino', 'urbano latino']           3\n",
       "['pop', 'r&b', 'rap']                                   2\n",
       "Name: count, dtype: int64"
      ]
     },
     "execution_count": 20,
     "metadata": {},
     "output_type": "execute_result"
    }
   ],
   "source": [
    "most_popular_genres=df[[\"genres\"]].value_counts()[:5]\n",
    "most_popular_genres                      "
   ]
  },
  {
   "cell_type": "code",
   "execution_count": 21,
   "id": "dbb57aad",
   "metadata": {
    "execution": {
     "iopub.execute_input": "2024-03-20T06:50:32.002820Z",
     "iopub.status.busy": "2024-03-20T06:50:32.001819Z",
     "iopub.status.idle": "2024-03-20T06:50:32.287512Z",
     "shell.execute_reply": "2024-03-20T06:50:32.286382Z"
    },
    "papermill": {
     "duration": 0.308133,
     "end_time": "2024-03-20T06:50:32.290252",
     "exception": false,
     "start_time": "2024-03-20T06:50:31.982119",
     "status": "completed"
    },
    "tags": []
   },
   "outputs": [
    {
     "data": {
      "image/png": "[encoded data removed]",
      "text/plain": [
       "<Figure size 640x480 with 1 Axes>"
      ]
     },
     "metadata": {},
     "output_type": "display_data"
    }
   ],
   "source": [
    "most_popular_genres.plot.barh()\n",
    "plt.show()"
   ]
  }
 ],
 "metadata": {
  "kaggle": {
   "accelerator": "none",
   "dataSources": [
    {
     "datasetId": 4411450,
     "sourceId": 7577812,
     "sourceType": "datasetVersion"
    }
   ],
   "dockerImageVersionId": 30664,
   "isGpuEnabled": false,
   "isInternetEnabled": false,
   "language": "python",
   "sourceType": "notebook"
  },
  "kernelspec": {
   "display_name": "Python 3",
   "language": "python",
   "name": "python3"
  },
  "language_info": {
   "codemirror_mode": {
    "name": "ipython",
    "version": 3
   },
   "file_extension": ".py",
   "mimetype": "text/x-python",
   "name": "python",
   "nbconvert_exporter": "python",
   "pygments_lexer": "ipython3",
   "version": "3.10.13"
  },
  "papermill": {
   "default_parameters": {},
   "duration": 9.271582,
   "end_time": "2024-03-20T06:50:32.928032",
   "environment_variables": {},
   "exception": null,
   "input_path": "__notebook__.ipynb",
   "output_path": "__notebook__.ipynb",
   "parameters": {},
   "start_time": "2024-03-20T06:50:23.656450",
   "version": "2.5.0"
  }
 },
 "nbformat": 4,
 "nbformat_minor": 5
}
